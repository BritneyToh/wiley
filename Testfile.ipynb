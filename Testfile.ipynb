{
 "cells": [
  {
   "cell_type": "code",
   "execution_count": 1,
   "id": "9c80b0f5",
   "metadata": {},
   "outputs": [
    {
     "name": "stdout",
     "output_type": "stream",
     "text": [
      "Even numbers: [2, 4, 6, 8]\n",
      "Odd numbers: [1, 3, 5, 7, 9]\n"
     ]
    }
   ],
   "source": [
    "def evenodd():\n",
    "    evenlist=[]\n",
    "    oddlist=[]\n",
    "    for item in x:\n",
    "        if item%2==0:\n",
    "            evenlist.append(item)   \n",
    "        elif item%2!=0:\n",
    "            oddlist.append(item)\n",
    "    print(f\"Even numbers: {evenlist}\")\n",
    "    print(f\"Odd numbers: {oddlist}\")\n",
    "    \n",
    "\n",
    "\n",
    "x = [1, 2, 3, 4, 5, 6, 7, 8, 9]\n",
    "evenodd()"
   ]
  },
  {
   "cell_type": "code",
   "execution_count": null,
   "id": "adba8d80",
   "metadata": {},
   "outputs": [],
   "source": []
  }
 ],
 "metadata": {
  "kernelspec": {
   "display_name": "Python 3 (ipykernel)",
   "language": "python",
   "name": "python3"
  },
  "language_info": {
   "codemirror_mode": {
    "name": "ipython",
    "version": 3
   },
   "file_extension": ".py",
   "mimetype": "text/x-python",
   "name": "python",
   "nbconvert_exporter": "python",
   "pygments_lexer": "ipython3",
   "version": "3.9.7"
  }
 },
 "nbformat": 4,
 "nbformat_minor": 5
}
